{
 "cells": [
  {
   "cell_type": "code",
   "execution_count": 1,
   "id": "2b053302",
   "metadata": {},
   "outputs": [],
   "source": [
    "# Dependencies\n",
    "import time\n",
    "import os\n",
    "import pandas as pd\n",
    "import matplotlib.pyplot as plt\n",
    "import pandas as pd"
   ]
  },
  {
   "cell_type": "code",
   "execution_count": 2,
   "id": "577e4472",
   "metadata": {},
   "outputs": [
    {
     "data": {
      "text/html": [
       "<div>\n",
       "<style scoped>\n",
       "    .dataframe tbody tr th:only-of-type {\n",
       "        vertical-align: middle;\n",
       "    }\n",
       "\n",
       "    .dataframe tbody tr th {\n",
       "        vertical-align: top;\n",
       "    }\n",
       "\n",
       "    .dataframe thead th {\n",
       "        text-align: right;\n",
       "    }\n",
       "</style>\n",
       "<table border=\"1\" class=\"dataframe\">\n",
       "  <thead>\n",
       "    <tr style=\"text-align: right;\">\n",
       "      <th></th>\n",
       "      <th>info</th>\n",
       "      <th>year 1</th>\n",
       "      <th>year 2</th>\n",
       "      <th>year 3</th>\n",
       "      <th>year 4</th>\n",
       "      <th>year 5</th>\n",
       "      <th>model year</th>\n",
       "      <th>model</th>\n",
       "      <th>engine</th>\n",
       "      <th>cost</th>\n",
       "    </tr>\n",
       "  </thead>\n",
       "  <tbody>\n",
       "    <tr>\n",
       "      <th>0</th>\n",
       "      <td>Insurance</td>\n",
       "      <td>1544</td>\n",
       "      <td>1598</td>\n",
       "      <td>1654</td>\n",
       "      <td>1712</td>\n",
       "      <td>1772</td>\n",
       "      <td>2023</td>\n",
       "      <td>Acura 2023 TLX Sedan 4dr Sedan AWD w/Advance P...</td>\n",
       "      <td>2.0L 4cyl Turbo 10A</td>\n",
       "      <td>53096</td>\n",
       "    </tr>\n",
       "    <tr>\n",
       "      <th>1</th>\n",
       "      <td>Maintenance</td>\n",
       "      <td>86</td>\n",
       "      <td>440</td>\n",
       "      <td>386</td>\n",
       "      <td>2465</td>\n",
       "      <td>2049</td>\n",
       "      <td>2023</td>\n",
       "      <td>Acura 2023 TLX Sedan 4dr Sedan AWD w/Advance P...</td>\n",
       "      <td>2.0L 4cyl Turbo 10A</td>\n",
       "      <td>53096</td>\n",
       "    </tr>\n",
       "    <tr>\n",
       "      <th>2</th>\n",
       "      <td>Repairs</td>\n",
       "      <td>0</td>\n",
       "      <td>0</td>\n",
       "      <td>0</td>\n",
       "      <td>462</td>\n",
       "      <td>707</td>\n",
       "      <td>2023</td>\n",
       "      <td>Acura 2023 TLX Sedan 4dr Sedan AWD w/Advance P...</td>\n",
       "      <td>2.0L 4cyl Turbo 10A</td>\n",
       "      <td>53096</td>\n",
       "    </tr>\n",
       "    <tr>\n",
       "      <th>3</th>\n",
       "      <td>Taxes_Fees</td>\n",
       "      <td>3347</td>\n",
       "      <td>239</td>\n",
       "      <td>214</td>\n",
       "      <td>194</td>\n",
       "      <td>194</td>\n",
       "      <td>2023</td>\n",
       "      <td>Acura 2023 TLX Sedan 4dr Sedan AWD w/Advance P...</td>\n",
       "      <td>2.0L 4cyl Turbo 10A</td>\n",
       "      <td>53096</td>\n",
       "    </tr>\n",
       "    <tr>\n",
       "      <th>4</th>\n",
       "      <td>Financing</td>\n",
       "      <td>4197</td>\n",
       "      <td>3421</td>\n",
       "      <td>2566</td>\n",
       "      <td>1628</td>\n",
       "      <td>597</td>\n",
       "      <td>2023</td>\n",
       "      <td>Acura 2023 TLX Sedan 4dr Sedan AWD w/Advance P...</td>\n",
       "      <td>2.0L 4cyl Turbo 10A</td>\n",
       "      <td>53096</td>\n",
       "    </tr>\n",
       "    <tr>\n",
       "      <th>...</th>\n",
       "      <td>...</td>\n",
       "      <td>...</td>\n",
       "      <td>...</td>\n",
       "      <td>...</td>\n",
       "      <td>...</td>\n",
       "      <td>...</td>\n",
       "      <td>...</td>\n",
       "      <td>...</td>\n",
       "      <td>...</td>\n",
       "      <td>...</td>\n",
       "    </tr>\n",
       "    <tr>\n",
       "      <th>1619</th>\n",
       "      <td>Repairs</td>\n",
       "      <td>0</td>\n",
       "      <td>0</td>\n",
       "      <td>0</td>\n",
       "      <td>436</td>\n",
       "      <td>667</td>\n",
       "      <td>2023</td>\n",
       "      <td>FIAT 500X Sport 4dr SUV AWD</td>\n",
       "      <td>1.3L 4cyl Turbo 9A</td>\n",
       "      <td>36043</td>\n",
       "    </tr>\n",
       "    <tr>\n",
       "      <th>1620</th>\n",
       "      <td>Taxes_Fees</td>\n",
       "      <td>2339</td>\n",
       "      <td>167</td>\n",
       "      <td>149</td>\n",
       "      <td>135</td>\n",
       "      <td>135</td>\n",
       "      <td>2023</td>\n",
       "      <td>FIAT 500X Sport 4dr SUV AWD</td>\n",
       "      <td>1.3L 4cyl Turbo 9A</td>\n",
       "      <td>36043</td>\n",
       "    </tr>\n",
       "    <tr>\n",
       "      <th>1621</th>\n",
       "      <td>Financing</td>\n",
       "      <td>2851</td>\n",
       "      <td>2323</td>\n",
       "      <td>1743</td>\n",
       "      <td>1106</td>\n",
       "      <td>405</td>\n",
       "      <td>2023</td>\n",
       "      <td>FIAT 500X Sport 4dr SUV AWD</td>\n",
       "      <td>1.3L 4cyl Turbo 9A</td>\n",
       "      <td>36043</td>\n",
       "    </tr>\n",
       "    <tr>\n",
       "      <th>1622</th>\n",
       "      <td>Depreciation</td>\n",
       "      <td>7273</td>\n",
       "      <td>1898</td>\n",
       "      <td>1796</td>\n",
       "      <td>2108</td>\n",
       "      <td>1997</td>\n",
       "      <td>2023</td>\n",
       "      <td>FIAT 500X Sport 4dr SUV AWD</td>\n",
       "      <td>1.3L 4cyl Turbo 9A</td>\n",
       "      <td>36043</td>\n",
       "    </tr>\n",
       "    <tr>\n",
       "      <th>1623</th>\n",
       "      <td>Fuel</td>\n",
       "      <td>2545</td>\n",
       "      <td>2621</td>\n",
       "      <td>2700</td>\n",
       "      <td>2781</td>\n",
       "      <td>2864</td>\n",
       "      <td>2023</td>\n",
       "      <td>FIAT 500X Sport 4dr SUV AWD</td>\n",
       "      <td>1.3L 4cyl Turbo 9A</td>\n",
       "      <td>36043</td>\n",
       "    </tr>\n",
       "  </tbody>\n",
       "</table>\n",
       "<p>1624 rows × 10 columns</p>\n",
       "</div>"
      ],
      "text/plain": [
       "              info  year 1  year 2  year 3  year 4  year 5  model year  \\\n",
       "0        Insurance    1544    1598    1654    1712    1772        2023   \n",
       "1      Maintenance      86     440     386    2465    2049        2023   \n",
       "2          Repairs       0       0       0     462     707        2023   \n",
       "3       Taxes_Fees    3347     239     214     194     194        2023   \n",
       "4        Financing    4197    3421    2566    1628     597        2023   \n",
       "...            ...     ...     ...     ...     ...     ...         ...   \n",
       "1619       Repairs       0       0       0     436     667        2023   \n",
       "1620    Taxes_Fees    2339     167     149     135     135        2023   \n",
       "1621     Financing    2851    2323    1743    1106     405        2023   \n",
       "1622  Depreciation    7273    1898    1796    2108    1997        2023   \n",
       "1623          Fuel    2545    2621    2700    2781    2864        2023   \n",
       "\n",
       "                                                  model               engine  \\\n",
       "0     Acura 2023 TLX Sedan 4dr Sedan AWD w/Advance P...  2.0L 4cyl Turbo 10A   \n",
       "1     Acura 2023 TLX Sedan 4dr Sedan AWD w/Advance P...  2.0L 4cyl Turbo 10A   \n",
       "2     Acura 2023 TLX Sedan 4dr Sedan AWD w/Advance P...  2.0L 4cyl Turbo 10A   \n",
       "3     Acura 2023 TLX Sedan 4dr Sedan AWD w/Advance P...  2.0L 4cyl Turbo 10A   \n",
       "4     Acura 2023 TLX Sedan 4dr Sedan AWD w/Advance P...  2.0L 4cyl Turbo 10A   \n",
       "...                                                 ...                  ...   \n",
       "1619                        FIAT 500X Sport 4dr SUV AWD   1.3L 4cyl Turbo 9A   \n",
       "1620                        FIAT 500X Sport 4dr SUV AWD   1.3L 4cyl Turbo 9A   \n",
       "1621                        FIAT 500X Sport 4dr SUV AWD   1.3L 4cyl Turbo 9A   \n",
       "1622                        FIAT 500X Sport 4dr SUV AWD   1.3L 4cyl Turbo 9A   \n",
       "1623                        FIAT 500X Sport 4dr SUV AWD   1.3L 4cyl Turbo 9A   \n",
       "\n",
       "       cost  \n",
       "0     53096  \n",
       "1     53096  \n",
       "2     53096  \n",
       "3     53096  \n",
       "4     53096  \n",
       "...     ...  \n",
       "1619  36043  \n",
       "1620  36043  \n",
       "1621  36043  \n",
       "1622  36043  \n",
       "1623  36043  \n",
       "\n",
       "[1624 rows x 10 columns]"
      ]
     },
     "execution_count": 2,
     "metadata": {},
     "output_type": "execute_result"
    }
   ],
   "source": [
    "#import data frame for combusion engine cars\n",
    "ice_df=pd.read_csv(\"Resources/Edmunds.csv\")\n",
    "ice_df"
   ]
  },
  {
   "cell_type": "code",
   "execution_count": 3,
   "id": "d0f8f733",
   "metadata": {},
   "outputs": [
    {
     "data": {
      "text/plain": [
       "272287"
      ]
     },
     "metadata": {},
     "output_type": "display_data"
    },
    {
     "data": {
      "text/plain": [
       "25998"
      ]
     },
     "metadata": {},
     "output_type": "display_data"
    },
    {
     "data": {
      "text/plain": [
       "64259.11022167488"
      ]
     },
     "metadata": {},
     "output_type": "display_data"
    }
   ],
   "source": [
    "#distribution of the cost of ice in the data set\n",
    "display(ice_df[\"cost\"].max())\n",
    "display(ice_df[\"cost\"].min())\n",
    "display(ice_df[\"cost\"].mean())"
   ]
  },
  {
   "cell_type": "code",
   "execution_count": 4,
   "id": "b607f7ea",
   "metadata": {},
   "outputs": [
    {
     "data": {
      "text/html": [
       "<div>\n",
       "<style scoped>\n",
       "    .dataframe tbody tr th:only-of-type {\n",
       "        vertical-align: middle;\n",
       "    }\n",
       "\n",
       "    .dataframe tbody tr th {\n",
       "        vertical-align: top;\n",
       "    }\n",
       "\n",
       "    .dataframe thead th {\n",
       "        text-align: right;\n",
       "    }\n",
       "</style>\n",
       "<table border=\"1\" class=\"dataframe\">\n",
       "  <thead>\n",
       "    <tr style=\"text-align: right;\">\n",
       "      <th></th>\n",
       "      <th>info</th>\n",
       "      <th>year 1</th>\n",
       "      <th>year 2</th>\n",
       "      <th>year 3</th>\n",
       "      <th>year 4</th>\n",
       "      <th>year 5</th>\n",
       "      <th>model year</th>\n",
       "      <th>model</th>\n",
       "      <th>engine</th>\n",
       "      <th>cost</th>\n",
       "    </tr>\n",
       "  </thead>\n",
       "  <tbody>\n",
       "    <tr>\n",
       "      <th>0</th>\n",
       "      <td>Insurance</td>\n",
       "      <td>1544</td>\n",
       "      <td>1598</td>\n",
       "      <td>1654</td>\n",
       "      <td>1712</td>\n",
       "      <td>1772</td>\n",
       "      <td>2023</td>\n",
       "      <td>Acura 2023 TLX Sedan 4dr Sedan AWD w/Advance P...</td>\n",
       "      <td>2.0L 4cyl Turbo 10A</td>\n",
       "      <td>53096</td>\n",
       "    </tr>\n",
       "    <tr>\n",
       "      <th>1</th>\n",
       "      <td>Maintenance</td>\n",
       "      <td>86</td>\n",
       "      <td>440</td>\n",
       "      <td>386</td>\n",
       "      <td>2465</td>\n",
       "      <td>2049</td>\n",
       "      <td>2023</td>\n",
       "      <td>Acura 2023 TLX Sedan 4dr Sedan AWD w/Advance P...</td>\n",
       "      <td>2.0L 4cyl Turbo 10A</td>\n",
       "      <td>53096</td>\n",
       "    </tr>\n",
       "    <tr>\n",
       "      <th>2</th>\n",
       "      <td>Repairs</td>\n",
       "      <td>0</td>\n",
       "      <td>0</td>\n",
       "      <td>0</td>\n",
       "      <td>462</td>\n",
       "      <td>707</td>\n",
       "      <td>2023</td>\n",
       "      <td>Acura 2023 TLX Sedan 4dr Sedan AWD w/Advance P...</td>\n",
       "      <td>2.0L 4cyl Turbo 10A</td>\n",
       "      <td>53096</td>\n",
       "    </tr>\n",
       "    <tr>\n",
       "      <th>3</th>\n",
       "      <td>Taxes_Fees</td>\n",
       "      <td>3347</td>\n",
       "      <td>239</td>\n",
       "      <td>214</td>\n",
       "      <td>194</td>\n",
       "      <td>194</td>\n",
       "      <td>2023</td>\n",
       "      <td>Acura 2023 TLX Sedan 4dr Sedan AWD w/Advance P...</td>\n",
       "      <td>2.0L 4cyl Turbo 10A</td>\n",
       "      <td>53096</td>\n",
       "    </tr>\n",
       "    <tr>\n",
       "      <th>4</th>\n",
       "      <td>Financing</td>\n",
       "      <td>4197</td>\n",
       "      <td>3421</td>\n",
       "      <td>2566</td>\n",
       "      <td>1628</td>\n",
       "      <td>597</td>\n",
       "      <td>2023</td>\n",
       "      <td>Acura 2023 TLX Sedan 4dr Sedan AWD w/Advance P...</td>\n",
       "      <td>2.0L 4cyl Turbo 10A</td>\n",
       "      <td>53096</td>\n",
       "    </tr>\n",
       "    <tr>\n",
       "      <th>...</th>\n",
       "      <td>...</td>\n",
       "      <td>...</td>\n",
       "      <td>...</td>\n",
       "      <td>...</td>\n",
       "      <td>...</td>\n",
       "      <td>...</td>\n",
       "      <td>...</td>\n",
       "      <td>...</td>\n",
       "      <td>...</td>\n",
       "      <td>...</td>\n",
       "    </tr>\n",
       "    <tr>\n",
       "      <th>1619</th>\n",
       "      <td>Repairs</td>\n",
       "      <td>0</td>\n",
       "      <td>0</td>\n",
       "      <td>0</td>\n",
       "      <td>436</td>\n",
       "      <td>667</td>\n",
       "      <td>2023</td>\n",
       "      <td>FIAT 500X Sport 4dr SUV AWD</td>\n",
       "      <td>1.3L 4cyl Turbo 9A</td>\n",
       "      <td>36043</td>\n",
       "    </tr>\n",
       "    <tr>\n",
       "      <th>1620</th>\n",
       "      <td>Taxes_Fees</td>\n",
       "      <td>2339</td>\n",
       "      <td>167</td>\n",
       "      <td>149</td>\n",
       "      <td>135</td>\n",
       "      <td>135</td>\n",
       "      <td>2023</td>\n",
       "      <td>FIAT 500X Sport 4dr SUV AWD</td>\n",
       "      <td>1.3L 4cyl Turbo 9A</td>\n",
       "      <td>36043</td>\n",
       "    </tr>\n",
       "    <tr>\n",
       "      <th>1621</th>\n",
       "      <td>Financing</td>\n",
       "      <td>2851</td>\n",
       "      <td>2323</td>\n",
       "      <td>1743</td>\n",
       "      <td>1106</td>\n",
       "      <td>405</td>\n",
       "      <td>2023</td>\n",
       "      <td>FIAT 500X Sport 4dr SUV AWD</td>\n",
       "      <td>1.3L 4cyl Turbo 9A</td>\n",
       "      <td>36043</td>\n",
       "    </tr>\n",
       "    <tr>\n",
       "      <th>1622</th>\n",
       "      <td>Depreciation</td>\n",
       "      <td>7273</td>\n",
       "      <td>1898</td>\n",
       "      <td>1796</td>\n",
       "      <td>2108</td>\n",
       "      <td>1997</td>\n",
       "      <td>2023</td>\n",
       "      <td>FIAT 500X Sport 4dr SUV AWD</td>\n",
       "      <td>1.3L 4cyl Turbo 9A</td>\n",
       "      <td>36043</td>\n",
       "    </tr>\n",
       "    <tr>\n",
       "      <th>1623</th>\n",
       "      <td>Fuel</td>\n",
       "      <td>2545</td>\n",
       "      <td>2621</td>\n",
       "      <td>2700</td>\n",
       "      <td>2781</td>\n",
       "      <td>2864</td>\n",
       "      <td>2023</td>\n",
       "      <td>FIAT 500X Sport 4dr SUV AWD</td>\n",
       "      <td>1.3L 4cyl Turbo 9A</td>\n",
       "      <td>36043</td>\n",
       "    </tr>\n",
       "  </tbody>\n",
       "</table>\n",
       "<p>1400 rows × 10 columns</p>\n",
       "</div>"
      ],
      "text/plain": [
       "              info  year 1  year 2  year 3  year 4  year 5  model year  \\\n",
       "0        Insurance    1544    1598    1654    1712    1772        2023   \n",
       "1      Maintenance      86     440     386    2465    2049        2023   \n",
       "2          Repairs       0       0       0     462     707        2023   \n",
       "3       Taxes_Fees    3347     239     214     194     194        2023   \n",
       "4        Financing    4197    3421    2566    1628     597        2023   \n",
       "...            ...     ...     ...     ...     ...     ...         ...   \n",
       "1619       Repairs       0       0       0     436     667        2023   \n",
       "1620    Taxes_Fees    2339     167     149     135     135        2023   \n",
       "1621     Financing    2851    2323    1743    1106     405        2023   \n",
       "1622  Depreciation    7273    1898    1796    2108    1997        2023   \n",
       "1623          Fuel    2545    2621    2700    2781    2864        2023   \n",
       "\n",
       "                                                  model               engine  \\\n",
       "0     Acura 2023 TLX Sedan 4dr Sedan AWD w/Advance P...  2.0L 4cyl Turbo 10A   \n",
       "1     Acura 2023 TLX Sedan 4dr Sedan AWD w/Advance P...  2.0L 4cyl Turbo 10A   \n",
       "2     Acura 2023 TLX Sedan 4dr Sedan AWD w/Advance P...  2.0L 4cyl Turbo 10A   \n",
       "3     Acura 2023 TLX Sedan 4dr Sedan AWD w/Advance P...  2.0L 4cyl Turbo 10A   \n",
       "4     Acura 2023 TLX Sedan 4dr Sedan AWD w/Advance P...  2.0L 4cyl Turbo 10A   \n",
       "...                                                 ...                  ...   \n",
       "1619                        FIAT 500X Sport 4dr SUV AWD   1.3L 4cyl Turbo 9A   \n",
       "1620                        FIAT 500X Sport 4dr SUV AWD   1.3L 4cyl Turbo 9A   \n",
       "1621                        FIAT 500X Sport 4dr SUV AWD   1.3L 4cyl Turbo 9A   \n",
       "1622                        FIAT 500X Sport 4dr SUV AWD   1.3L 4cyl Turbo 9A   \n",
       "1623                        FIAT 500X Sport 4dr SUV AWD   1.3L 4cyl Turbo 9A   \n",
       "\n",
       "       cost  \n",
       "0     53096  \n",
       "1     53096  \n",
       "2     53096  \n",
       "3     53096  \n",
       "4     53096  \n",
       "...     ...  \n",
       "1619  36043  \n",
       "1620  36043  \n",
       "1621  36043  \n",
       "1622  36043  \n",
       "1623  36043  \n",
       "\n",
       "[1400 rows x 10 columns]"
      ]
     },
     "execution_count": 4,
     "metadata": {},
     "output_type": "execute_result"
    }
   ],
   "source": [
    "#removing expensive cars from analysis to match most expensive ev\n",
    "ev_max_cost=112924\n",
    "ev_min_cost=30119\n",
    "ice_df=ice_df.loc[ice_df[\"cost\"]>ev_min_cost-1,:]\n",
    "ice_df=ice_df.loc[ice_df[\"cost\"]<ev_max_cost+1,:]\n",
    "ice_df"
   ]
  },
  {
   "cell_type": "code",
   "execution_count": 5,
   "id": "3b38b97f",
   "metadata": {},
   "outputs": [],
   "source": [
    "ice_df=ice_df.set_index([\"info\"])"
   ]
  },
  {
   "cell_type": "code",
   "execution_count": 6,
   "id": "59a24cfc",
   "metadata": {},
   "outputs": [
    {
     "data": {
      "text/plain": [
       "Text(0, 0.5, 'Percentage of Deperation')"
      ]
     },
     "execution_count": 6,
     "metadata": {},
     "output_type": "execute_result"
    },
    {
     "data": {
      "image/png": "[encoded data removed]",
      "text/plain": [
       "<Figure size 640x480 with 1 Axes>"
      ]
     },
     "metadata": {},
     "output_type": "display_data"
    }
   ],
   "source": [
    "#ice_value_fraction=ice_df.loc[[\"Depreciation\"],['year 1', 'year 2', 'year 3', 'year 4', 'year 5',\"cost\"]]\n",
    "ice_value_fraction=ice_df.loc[[\"Depreciation\"],['model','cost']]#pd.DataFrame(columns=['year 1'])\n",
    "for i in range(5):\n",
    "    text='year '+str(i+1)\n",
    "    ice_value_fraction[text] = ice_df.loc[[\"Depreciation\"],[text]]\n",
    "    ice_value_fraction[text] = ice_value_fraction[text]/ice_value_fraction[\"cost\"]*100\n",
    "ice_value_fraction=ice_value_fraction.T\n",
    "#make models in row 1 header\n",
    "ice_value_fraction.columns=ice_value_fraction.iloc[0]\n",
    "#remove row 1\n",
    "ice_value_fraction=ice_value_fraction.drop([\"model\",'cost'])\n",
    "#ice_value_fraction\n",
    "ice_value_fraction_plot=ice_value_fraction.plot(kind='bar',legend=False,align=\"center\")\n",
    "ice_value_fraction_plot.set_xlabel(\"Year of Ownership\")\n",
    "ice_value_fraction_plot.set_ylabel(\"Percentage of Deperation\")"
   ]
  },
  {
   "cell_type": "code",
   "execution_count": 7,
   "id": "3d4171c6",
   "metadata": {
    "scrolled": false
   },
   "outputs": [
    {
     "data": {
      "text/html": [
       "<div>\n",
       "<style scoped>\n",
       "    .dataframe tbody tr th:only-of-type {\n",
       "        vertical-align: middle;\n",
       "    }\n",
       "\n",
       "    .dataframe tbody tr th {\n",
       "        vertical-align: top;\n",
       "    }\n",
       "\n",
       "    .dataframe thead th {\n",
       "        text-align: right;\n",
       "    }\n",
       "</style>\n",
       "<table border=\"1\" class=\"dataframe\">\n",
       "  <thead>\n",
       "    <tr style=\"text-align: right;\">\n",
       "      <th></th>\n",
       "      <th></th>\n",
       "      <th></th>\n",
       "      <th>year 1</th>\n",
       "      <th>year 2</th>\n",
       "      <th>year 3</th>\n",
       "      <th>year 4</th>\n",
       "      <th>year 5</th>\n",
       "      <th>model year</th>\n",
       "    </tr>\n",
       "    <tr>\n",
       "      <th>model</th>\n",
       "      <th>engine</th>\n",
       "      <th>cost</th>\n",
       "      <th></th>\n",
       "      <th></th>\n",
       "      <th></th>\n",
       "      <th></th>\n",
       "      <th></th>\n",
       "      <th></th>\n",
       "    </tr>\n",
       "  </thead>\n",
       "  <tbody>\n",
       "    <tr>\n",
       "      <th>Acura 2023 TLX Sedan 4dr Sedan AWD w/Advance Package</th>\n",
       "      <th>2.0L 4cyl Turbo 10A</th>\n",
       "      <th>53096</th>\n",
       "      <td>25212</td>\n",
       "      <td>12465</td>\n",
       "      <td>10953</td>\n",
       "      <td>13068</td>\n",
       "      <td>11562</td>\n",
       "      <td>2023</td>\n",
       "    </tr>\n",
       "    <tr>\n",
       "      <th rowspan=\"2\" valign=\"top\">Acura Integra 4dr Hatchback w/A-Spec and Technology Packages</th>\n",
       "      <th>1.5L 4cyl Turbo 6M</th>\n",
       "      <th>37996</th>\n",
       "      <td>16606</td>\n",
       "      <td>8915</td>\n",
       "      <td>8028</td>\n",
       "      <td>8640</td>\n",
       "      <td>8712</td>\n",
       "      <td>2023</td>\n",
       "    </tr>\n",
       "    <tr>\n",
       "      <th>1.5L 4cyl Turbo CVT</th>\n",
       "      <th>37996</th>\n",
       "      <td>16469</td>\n",
       "      <td>8774</td>\n",
       "      <td>7883</td>\n",
       "      <td>8583</td>\n",
       "      <td>8558</td>\n",
       "      <td>2023</td>\n",
       "    </tr>\n",
       "    <tr>\n",
       "      <th>Acura Integra 4dr Hatchback w/A-SpecvPackage</th>\n",
       "      <th>1.5L 4cyl Turbo CVT</th>\n",
       "      <th>35517</th>\n",
       "      <td>15978</td>\n",
       "      <td>8369</td>\n",
       "      <td>7548</td>\n",
       "      <td>8275</td>\n",
       "      <td>8314</td>\n",
       "      <td>2023</td>\n",
       "    </tr>\n",
       "    <tr>\n",
       "      <th>Acura Integra Hatchback 4dr Hatchback</th>\n",
       "      <th>1.5L 4cyl Turbo CVT</th>\n",
       "      <th>33473</th>\n",
       "      <td>15270</td>\n",
       "      <td>8113</td>\n",
       "      <td>7348</td>\n",
       "      <td>8099</td>\n",
       "      <td>8082</td>\n",
       "      <td>2023</td>\n",
       "    </tr>\n",
       "  </tbody>\n",
       "</table>\n",
       "</div>"
      ],
      "text/plain": [
       "                                                                              year 1  \\\n",
       "model                                              engine              cost            \n",
       "Acura 2023 TLX Sedan 4dr Sedan AWD w/Advance Pa... 2.0L 4cyl Turbo 10A 53096   25212   \n",
       "Acura Integra 4dr Hatchback w/A-Spec and Techno... 1.5L 4cyl Turbo 6M  37996   16606   \n",
       "                                                   1.5L 4cyl Turbo CVT 37996   16469   \n",
       "Acura Integra 4dr Hatchback w/A-SpecvPackage       1.5L 4cyl Turbo CVT 35517   15978   \n",
       "Acura Integra Hatchback 4dr Hatchback              1.5L 4cyl Turbo CVT 33473   15270   \n",
       "\n",
       "                                                                              year 2  \\\n",
       "model                                              engine              cost            \n",
       "Acura 2023 TLX Sedan 4dr Sedan AWD w/Advance Pa... 2.0L 4cyl Turbo 10A 53096   12465   \n",
       "Acura Integra 4dr Hatchback w/A-Spec and Techno... 1.5L 4cyl Turbo 6M  37996    8915   \n",
       "                                                   1.5L 4cyl Turbo CVT 37996    8774   \n",
       "Acura Integra 4dr Hatchback w/A-SpecvPackage       1.5L 4cyl Turbo CVT 35517    8369   \n",
       "Acura Integra Hatchback 4dr Hatchback              1.5L 4cyl Turbo CVT 33473    8113   \n",
       "\n",
       "                                                                              year 3  \\\n",
       "model                                              engine              cost            \n",
       "Acura 2023 TLX Sedan 4dr Sedan AWD w/Advance Pa... 2.0L 4cyl Turbo 10A 53096   10953   \n",
       "Acura Integra 4dr Hatchback w/A-Spec and Techno... 1.5L 4cyl Turbo 6M  37996    8028   \n",
       "                                                   1.5L 4cyl Turbo CVT 37996    7883   \n",
       "Acura Integra 4dr Hatchback w/A-SpecvPackage       1.5L 4cyl Turbo CVT 35517    7548   \n",
       "Acura Integra Hatchback 4dr Hatchback              1.5L 4cyl Turbo CVT 33473    7348   \n",
       "\n",
       "                                                                              year 4  \\\n",
       "model                                              engine              cost            \n",
       "Acura 2023 TLX Sedan 4dr Sedan AWD w/Advance Pa... 2.0L 4cyl Turbo 10A 53096   13068   \n",
       "Acura Integra 4dr Hatchback w/A-Spec and Techno... 1.5L 4cyl Turbo 6M  37996    8640   \n",
       "                                                   1.5L 4cyl Turbo CVT 37996    8583   \n",
       "Acura Integra 4dr Hatchback w/A-SpecvPackage       1.5L 4cyl Turbo CVT 35517    8275   \n",
       "Acura Integra Hatchback 4dr Hatchback              1.5L 4cyl Turbo CVT 33473    8099   \n",
       "\n",
       "                                                                              year 5  \\\n",
       "model                                              engine              cost            \n",
       "Acura 2023 TLX Sedan 4dr Sedan AWD w/Advance Pa... 2.0L 4cyl Turbo 10A 53096   11562   \n",
       "Acura Integra 4dr Hatchback w/A-Spec and Techno... 1.5L 4cyl Turbo 6M  37996    8712   \n",
       "                                                   1.5L 4cyl Turbo CVT 37996    8558   \n",
       "Acura Integra 4dr Hatchback w/A-SpecvPackage       1.5L 4cyl Turbo CVT 35517    8314   \n",
       "Acura Integra Hatchback 4dr Hatchback              1.5L 4cyl Turbo CVT 33473    8082   \n",
       "\n",
       "                                                                              model year  \n",
       "model                                              engine              cost               \n",
       "Acura 2023 TLX Sedan 4dr Sedan AWD w/Advance Pa... 2.0L 4cyl Turbo 10A 53096        2023  \n",
       "Acura Integra 4dr Hatchback w/A-Spec and Techno... 1.5L 4cyl Turbo 6M  37996        2023  \n",
       "                                                   1.5L 4cyl Turbo CVT 37996        2023  \n",
       "Acura Integra 4dr Hatchback w/A-SpecvPackage       1.5L 4cyl Turbo CVT 35517        2023  \n",
       "Acura Integra Hatchback 4dr Hatchback              1.5L 4cyl Turbo CVT 33473        2023  "
      ]
     },
     "execution_count": 7,
     "metadata": {},
     "output_type": "execute_result"
    }
   ],
   "source": [
    "#add up yearly cost based on model and engine type\n",
    "ice_yearly_cost_df=ice_df.groupby([\"model\",\"engine\",'cost']).sum()\n",
    "#fix summing of model year\n",
    "ice_yearly_cost_df[\"model year\"]=round(ice_yearly_cost_df[\"model year\"]/7,0).astype(int)\n",
    "ice_yearly_cost_df.head()"
   ]
  },
  {
   "cell_type": "code",
   "execution_count": 8,
   "id": "9832b4b0",
   "metadata": {},
   "outputs": [
    {
     "data": {
      "text/plain": [
       "Text(0, 0.5, '5 Year Cost ($)')"
      ]
     },
     "execution_count": 8,
     "metadata": {},
     "output_type": "execute_result"
    },
    {
     "data": {
      "image/png": "[encoded data removed]",
      "text/plain": [
       "<Figure size 640x480 with 1 Axes>"
      ]
     },
     "metadata": {},
     "output_type": "display_data"
    }
   ],
   "source": [
    "#fig,ax =plt.subplots()\n",
    "#ax.bar(ice_yearly_cost_df[])\n",
    "ice_transposed= ice_yearly_cost_df[['year 1', 'year 2', 'year 3', 'year 4', 'year 5']].T\n",
    "ice_transposed_plot=ice_transposed.plot(kind='bar',legend=False,align=\"center\")#, figsize=(6,8))\n",
    "ice_transposed_plot.set_xlabel(\"Year of Ownership\")\n",
    "ice_transposed_plot.set_ylabel(\"5 Year Cost ($)\")"
   ]
  },
  {
   "cell_type": "code",
   "execution_count": 9,
   "id": "4f9ce400",
   "metadata": {},
   "outputs": [],
   "source": [
    "ice_yearly_cost_df['five_year_cost']=0\n",
    "for i in range(5):\n",
    "    text='year '+str(i+1)\n",
    "    ice_yearly_cost_df['five_year_cost']=ice_yearly_cost_df['five_year_cost']+ice_yearly_cost_df[text]\n",
    "    "
   ]
  },
  {
   "cell_type": "code",
   "execution_count": 10,
   "id": "b65349af",
   "metadata": {},
   "outputs": [
    {
     "data": {
      "text/html": [
       "<div>\n",
       "<style scoped>\n",
       "    .dataframe tbody tr th:only-of-type {\n",
       "        vertical-align: middle;\n",
       "    }\n",
       "\n",
       "    .dataframe tbody tr th {\n",
       "        vertical-align: top;\n",
       "    }\n",
       "\n",
       "    .dataframe thead th {\n",
       "        text-align: right;\n",
       "    }\n",
       "</style>\n",
       "<table border=\"1\" class=\"dataframe\">\n",
       "  <thead>\n",
       "    <tr style=\"text-align: right;\">\n",
       "      <th></th>\n",
       "      <th></th>\n",
       "      <th></th>\n",
       "      <th>year 1</th>\n",
       "      <th>year 2</th>\n",
       "      <th>year 3</th>\n",
       "      <th>year 4</th>\n",
       "      <th>year 5</th>\n",
       "      <th>model year</th>\n",
       "      <th>five_year_cost</th>\n",
       "    </tr>\n",
       "    <tr>\n",
       "      <th>model</th>\n",
       "      <th>engine</th>\n",
       "      <th>cost</th>\n",
       "      <th></th>\n",
       "      <th></th>\n",
       "      <th></th>\n",
       "      <th></th>\n",
       "      <th></th>\n",
       "      <th></th>\n",
       "      <th></th>\n",
       "    </tr>\n",
       "  </thead>\n",
       "  <tbody>\n",
       "    <tr>\n",
       "      <th>Acura 2023 TLX Sedan 4dr Sedan AWD w/Advance Package</th>\n",
       "      <th>2.0L 4cyl Turbo 10A</th>\n",
       "      <th>53096</th>\n",
       "      <td>25212</td>\n",
       "      <td>12465</td>\n",
       "      <td>10953</td>\n",
       "      <td>13068</td>\n",
       "      <td>11562</td>\n",
       "      <td>2023</td>\n",
       "      <td>73260</td>\n",
       "    </tr>\n",
       "    <tr>\n",
       "      <th rowspan=\"2\" valign=\"top\">Acura Integra 4dr Hatchback w/A-Spec and Technology Packages</th>\n",
       "      <th>1.5L 4cyl Turbo 6M</th>\n",
       "      <th>37996</th>\n",
       "      <td>16606</td>\n",
       "      <td>8915</td>\n",
       "      <td>8028</td>\n",
       "      <td>8640</td>\n",
       "      <td>8712</td>\n",
       "      <td>2023</td>\n",
       "      <td>50901</td>\n",
       "    </tr>\n",
       "    <tr>\n",
       "      <th>1.5L 4cyl Turbo CVT</th>\n",
       "      <th>37996</th>\n",
       "      <td>16469</td>\n",
       "      <td>8774</td>\n",
       "      <td>7883</td>\n",
       "      <td>8583</td>\n",
       "      <td>8558</td>\n",
       "      <td>2023</td>\n",
       "      <td>50267</td>\n",
       "    </tr>\n",
       "    <tr>\n",
       "      <th>Acura Integra 4dr Hatchback w/A-SpecvPackage</th>\n",
       "      <th>1.5L 4cyl Turbo CVT</th>\n",
       "      <th>35517</th>\n",
       "      <td>15978</td>\n",
       "      <td>8369</td>\n",
       "      <td>7548</td>\n",
       "      <td>8275</td>\n",
       "      <td>8314</td>\n",
       "      <td>2023</td>\n",
       "      <td>48484</td>\n",
       "    </tr>\n",
       "    <tr>\n",
       "      <th>Acura Integra Hatchback 4dr Hatchback</th>\n",
       "      <th>1.5L 4cyl Turbo CVT</th>\n",
       "      <th>33473</th>\n",
       "      <td>15270</td>\n",
       "      <td>8113</td>\n",
       "      <td>7348</td>\n",
       "      <td>8099</td>\n",
       "      <td>8082</td>\n",
       "      <td>2023</td>\n",
       "      <td>46912</td>\n",
       "    </tr>\n",
       "  </tbody>\n",
       "</table>\n",
       "</div>"
      ],
      "text/plain": [
       "                                                                              year 1  \\\n",
       "model                                              engine              cost            \n",
       "Acura 2023 TLX Sedan 4dr Sedan AWD w/Advance Pa... 2.0L 4cyl Turbo 10A 53096   25212   \n",
       "Acura Integra 4dr Hatchback w/A-Spec and Techno... 1.5L 4cyl Turbo 6M  37996   16606   \n",
       "                                                   1.5L 4cyl Turbo CVT 37996   16469   \n",
       "Acura Integra 4dr Hatchback w/A-SpecvPackage       1.5L 4cyl Turbo CVT 35517   15978   \n",
       "Acura Integra Hatchback 4dr Hatchback              1.5L 4cyl Turbo CVT 33473   15270   \n",
       "\n",
       "                                                                              year 2  \\\n",
       "model                                              engine              cost            \n",
       "Acura 2023 TLX Sedan 4dr Sedan AWD w/Advance Pa... 2.0L 4cyl Turbo 10A 53096   12465   \n",
       "Acura Integra 4dr Hatchback w/A-Spec and Techno... 1.5L 4cyl Turbo 6M  37996    8915   \n",
       "                                                   1.5L 4cyl Turbo CVT 37996    8774   \n",
       "Acura Integra 4dr Hatchback w/A-SpecvPackage       1.5L 4cyl Turbo CVT 35517    8369   \n",
       "Acura Integra Hatchback 4dr Hatchback              1.5L 4cyl Turbo CVT 33473    8113   \n",
       "\n",
       "                                                                              year 3  \\\n",
       "model                                              engine              cost            \n",
       "Acura 2023 TLX Sedan 4dr Sedan AWD w/Advance Pa... 2.0L 4cyl Turbo 10A 53096   10953   \n",
       "Acura Integra 4dr Hatchback w/A-Spec and Techno... 1.5L 4cyl Turbo 6M  37996    8028   \n",
       "                                                   1.5L 4cyl Turbo CVT 37996    7883   \n",
       "Acura Integra 4dr Hatchback w/A-SpecvPackage       1.5L 4cyl Turbo CVT 35517    7548   \n",
       "Acura Integra Hatchback 4dr Hatchback              1.5L 4cyl Turbo CVT 33473    7348   \n",
       "\n",
       "                                                                              year 4  \\\n",
       "model                                              engine              cost            \n",
       "Acura 2023 TLX Sedan 4dr Sedan AWD w/Advance Pa... 2.0L 4cyl Turbo 10A 53096   13068   \n",
       "Acura Integra 4dr Hatchback w/A-Spec and Techno... 1.5L 4cyl Turbo 6M  37996    8640   \n",
       "                                                   1.5L 4cyl Turbo CVT 37996    8583   \n",
       "Acura Integra 4dr Hatchback w/A-SpecvPackage       1.5L 4cyl Turbo CVT 35517    8275   \n",
       "Acura Integra Hatchback 4dr Hatchback              1.5L 4cyl Turbo CVT 33473    8099   \n",
       "\n",
       "                                                                              year 5  \\\n",
       "model                                              engine              cost            \n",
       "Acura 2023 TLX Sedan 4dr Sedan AWD w/Advance Pa... 2.0L 4cyl Turbo 10A 53096   11562   \n",
       "Acura Integra 4dr Hatchback w/A-Spec and Techno... 1.5L 4cyl Turbo 6M  37996    8712   \n",
       "                                                   1.5L 4cyl Turbo CVT 37996    8558   \n",
       "Acura Integra 4dr Hatchback w/A-SpecvPackage       1.5L 4cyl Turbo CVT 35517    8314   \n",
       "Acura Integra Hatchback 4dr Hatchback              1.5L 4cyl Turbo CVT 33473    8082   \n",
       "\n",
       "                                                                              model year  \\\n",
       "model                                              engine              cost                \n",
       "Acura 2023 TLX Sedan 4dr Sedan AWD w/Advance Pa... 2.0L 4cyl Turbo 10A 53096        2023   \n",
       "Acura Integra 4dr Hatchback w/A-Spec and Techno... 1.5L 4cyl Turbo 6M  37996        2023   \n",
       "                                                   1.5L 4cyl Turbo CVT 37996        2023   \n",
       "Acura Integra 4dr Hatchback w/A-SpecvPackage       1.5L 4cyl Turbo CVT 35517        2023   \n",
       "Acura Integra Hatchback 4dr Hatchback              1.5L 4cyl Turbo CVT 33473        2023   \n",
       "\n",
       "                                                                              five_year_cost  \n",
       "model                                              engine              cost                   \n",
       "Acura 2023 TLX Sedan 4dr Sedan AWD w/Advance Pa... 2.0L 4cyl Turbo 10A 53096           73260  \n",
       "Acura Integra 4dr Hatchback w/A-Spec and Techno... 1.5L 4cyl Turbo 6M  37996           50901  \n",
       "                                                   1.5L 4cyl Turbo CVT 37996           50267  \n",
       "Acura Integra 4dr Hatchback w/A-SpecvPackage       1.5L 4cyl Turbo CVT 35517           48484  \n",
       "Acura Integra Hatchback 4dr Hatchback              1.5L 4cyl Turbo CVT 33473           46912  "
      ]
     },
     "execution_count": 10,
     "metadata": {},
     "output_type": "execute_result"
    }
   ],
   "source": [
    "ice_yearly_cost_df.head()"
   ]
  },
  {
   "cell_type": "code",
   "execution_count": 11,
   "id": "fb4b9577",
   "metadata": {
    "scrolled": true
   },
   "outputs": [
    {
     "data": {
      "text/plain": [
       "Text(0, 0.5, 'Fraction of 5 year cost')"
      ]
     },
     "execution_count": 11,
     "metadata": {},
     "output_type": "execute_result"
    },
    {
     "data": {
      "image/png": "[encoded data removed]",
      "text/plain": [
       "<Figure size 640x480 with 1 Axes>"
      ]
     },
     "metadata": {},
     "output_type": "display_data"
    }
   ],
   "source": [
    "ice_yearly_fraction=pd.DataFrame(columns=['a'])\n",
    "for i in range(5):\n",
    "    text='year '+str(i+1)\n",
    "    ice_yearly_fraction[text]=ice_yearly_cost_df[text]/ice_yearly_cost_df['five_year_cost']*100\n",
    "del ice_yearly_fraction['a']\n",
    "ice_yearly_fraction\n",
    "ice_ratio_plot=ice_yearly_fraction.T.plot(kind='bar',legend=False,align=\"center\")\n",
    "ice_ratio_plot.set_xlabel(\"Year of Ownership\")\n",
    "ice_ratio_plot.set_ylabel(\"Fraction of 5 year cost\")"
   ]
  },
  {
   "cell_type": "code",
   "execution_count": 12,
   "id": "9fc417ee",
   "metadata": {
    "scrolled": false
   },
   "outputs": [
    {
     "data": {
      "text/plain": [
       "<Axes: >"
      ]
     },
     "execution_count": 12,
     "metadata": {},
     "output_type": "execute_result"
    },
    {
     "data": {
      "image/png": "[encoded data removed]",
      "text/plain": [
       "<Figure size 640x480 with 1 Axes>"
      ]
     },
     "metadata": {},
     "output_type": "display_data"
    }
   ],
   "source": [
    "#disbrituion of cost in 1st year\n",
    "ice_yearly_cost_df['five_year_cost'].hist(bins = 25,legend=True)\n",
    "ice_yearly_cost_df['year 1'].hist(bins = 25,legend=True)\n",
    "ice_yearly_cost_df['year 2'].hist(bins = 25,legend=True)\n",
    "ice_yearly_cost_df['year 3'].hist(bins = 25,legend=True)\n",
    "ice_yearly_cost_df['year 4'].hist(bins = 25,legend=True)\n",
    "ice_yearly_cost_df['year 5'].hist(bins = 25,legend=True)"
   ]
  },
  {
   "cell_type": "code",
   "execution_count": 13,
   "id": "07acfe47",
   "metadata": {
    "scrolled": true
   },
   "outputs": [
    {
     "name": "stdout",
     "output_type": "stream",
     "text": [
      "The average total cost to own a new car for the first five years.\n"
     ]
    },
    {
     "data": {
      "text/plain": [
       "'1 year mean = $25226.92'"
      ]
     },
     "metadata": {},
     "output_type": "display_data"
    },
    {
     "data": {
      "text/plain": [
       "'2 year mean = $38036.72'"
      ]
     },
     "metadata": {},
     "output_type": "display_data"
    },
    {
     "data": {
      "text/plain": [
       "'3 year mean = $49509.14'"
      ]
     },
     "metadata": {},
     "output_type": "display_data"
    },
    {
     "data": {
      "text/plain": [
       "'4 year mean = $62936.46'"
      ]
     },
     "metadata": {},
     "output_type": "display_data"
    },
    {
     "data": {
      "text/plain": [
       "'5 year mean = $74927.3'"
      ]
     },
     "metadata": {},
     "output_type": "display_data"
    }
   ],
   "source": [
    "print(\"The average total cost to own a new car for the first five years.\")\n",
    "display(f\"1 year mean = ${round(ice_yearly_cost_df['year 1'].mean(),2)}\")\n",
    "display(f\"2 year mean = ${round((ice_yearly_cost_df['year 1']+ice_yearly_cost_df['year 2']).mean(),2)}\")\n",
    "display((f\"3 year mean = $\"\n",
    "         f\"{round((ice_yearly_cost_df['year 1']+ice_yearly_cost_df['year 2']+ice_yearly_cost_df['year 3']).mean(),2)}\"))\n",
    "display(f\"4 year mean = ${round((ice_yearly_cost_df['year 1']+ice_yearly_cost_df['year 2']+ice_yearly_cost_df['year 3'] +ice_yearly_cost_df['year 4']).mean(),2)}\")\n",
    "display(f\"5 year mean = ${round(ice_yearly_cost_df['five_year_cost'].mean(),2)}\")"
   ]
  },
  {
   "cell_type": "code",
   "execution_count": 14,
   "id": "8db240b1",
   "metadata": {},
   "outputs": [],
   "source": [
    "ice_yearly_cost_df.reset_index(inplace=True)"
   ]
  },
  {
   "cell_type": "code",
   "execution_count": 15,
   "id": "223a57f1",
   "metadata": {
    "scrolled": false
   },
   "outputs": [
    {
     "data": {
      "text/plain": [
       "<Axes: >"
      ]
     },
     "execution_count": 15,
     "metadata": {},
     "output_type": "execute_result"
    },
    {
     "data": {
      "image/png": "[encoded data removed]",
      "text/plain": [
       "<Figure size 640x480 with 1 Axes>"
      ]
     },
     "metadata": {},
     "output_type": "display_data"
    }
   ],
   "source": [
    "#amount paid in addition to the cost of the car over 5 years\n",
    "ice_yearly_cost_df[\"expenses\"]=ice_yearly_cost_df['five_year_cost']-ice_yearly_cost_df['cost']\n",
    "ice_yearly_cost_df[\"expenses\"].hist(bins = 25,legend=True)"
   ]
  },
  {
   "cell_type": "code",
   "execution_count": 16,
   "id": "cbe2384d",
   "metadata": {},
   "outputs": [],
   "source": [
    "ice_cost_per_mile=ice_yearly_cost_df[[\"model\",'engine',\"year 1\",\"year 2\",\"year 3\",\"year 4\",\"year 5\"]]#.loc[\"Fuel\"]"
   ]
  },
  {
   "cell_type": "code",
   "execution_count": 17,
   "id": "13e7128c",
   "metadata": {},
   "outputs": [
    {
     "name": "stderr",
     "output_type": "stream",
     "text": [
      "C:\\Users\\kwan\\AppData\\Local\\Temp\\ipykernel_18916\\678035108.py:4: SettingWithCopyWarning: \n",
      "A value is trying to be set on a copy of a slice from a DataFrame.\n",
      "Try using .loc[row_indexer,col_indexer] = value instead\n",
      "\n",
      "See the caveats in the documentation: https://pandas.pydata.org/pandas-docs/stable/user_guide/indexing.html#returning-a-view-versus-a-copy\n",
      "  ice_cost_per_mile[column_name]=round(ice_cost_per_mile[text]/15000,2)\n",
      "C:\\Users\\kwan\\AppData\\Local\\Temp\\ipykernel_18916\\678035108.py:4: SettingWithCopyWarning: \n",
      "A value is trying to be set on a copy of a slice from a DataFrame.\n",
      "Try using .loc[row_indexer,col_indexer] = value instead\n",
      "\n",
      "See the caveats in the documentation: https://pandas.pydata.org/pandas-docs/stable/user_guide/indexing.html#returning-a-view-versus-a-copy\n",
      "  ice_cost_per_mile[column_name]=round(ice_cost_per_mile[text]/15000,2)\n",
      "C:\\Users\\kwan\\AppData\\Local\\Temp\\ipykernel_18916\\678035108.py:4: SettingWithCopyWarning: \n",
      "A value is trying to be set on a copy of a slice from a DataFrame.\n",
      "Try using .loc[row_indexer,col_indexer] = value instead\n",
      "\n",
      "See the caveats in the documentation: https://pandas.pydata.org/pandas-docs/stable/user_guide/indexing.html#returning-a-view-versus-a-copy\n",
      "  ice_cost_per_mile[column_name]=round(ice_cost_per_mile[text]/15000,2)\n"
     ]
    }
   ],
   "source": [
    "for i in range(5):\n",
    "    text='year '+str(i+1)\n",
    "    column_name = \"cost/mile (\" + text+ \")\"\n",
    "    ice_cost_per_mile[column_name]=round(ice_cost_per_mile[text]/15000,2)\n",
    "ice_cost_per_mile=ice_cost_per_mile.reset_index()"
   ]
  },
  {
   "cell_type": "code",
   "execution_count": 18,
   "id": "8820c1d5",
   "metadata": {},
   "outputs": [
    {
     "data": {
      "text/plain": [
       "'year 1 cost/mile mean = $1.68'"
      ]
     },
     "metadata": {},
     "output_type": "display_data"
    },
    {
     "data": {
      "text/plain": [
       "'year 2 cost/mile mean = $0.85'"
      ]
     },
     "metadata": {},
     "output_type": "display_data"
    },
    {
     "data": {
      "text/plain": [
       "'year 3 cost/mile mean = $0.76'"
      ]
     },
     "metadata": {},
     "output_type": "display_data"
    },
    {
     "data": {
      "text/plain": [
       "'year 4 cost/mile mean = $0.9'"
      ]
     },
     "metadata": {},
     "output_type": "display_data"
    },
    {
     "data": {
      "text/plain": [
       "'year 5 cost/mile mean = $0.8'"
      ]
     },
     "metadata": {},
     "output_type": "display_data"
    }
   ],
   "source": [
    "display(f'year 1 cost/mile mean = ${round(ice_cost_per_mile[\"cost/mile (year 1)\"].mean(),2)}')\n",
    "display(f'year 2 cost/mile mean = ${round(ice_cost_per_mile[\"cost/mile (year 2)\"].mean(),2)}')\n",
    "display(f'year 3 cost/mile mean = ${round(ice_cost_per_mile[\"cost/mile (year 3)\"].mean(),2)}')\n",
    "display(f'year 4 cost/mile mean = ${round(ice_cost_per_mile[\"cost/mile (year 4)\"].mean(),2)}')\n",
    "display(f'year 5 cost/mile mean = ${round(ice_cost_per_mile[\"cost/mile (year 5)\"].mean(),2)}')"
   ]
  },
  {
   "cell_type": "code",
   "execution_count": 19,
   "id": "fd93bed4",
   "metadata": {},
   "outputs": [
    {
     "ename": "TypeError",
     "evalue": "'Axes' object is not callable",
     "output_type": "error",
     "traceback": [
      "\u001b[1;31m---------------------------------------------------------------------------\u001b[0m",
      "\u001b[1;31mTypeError\u001b[0m                                 Traceback (most recent call last)",
      "Cell \u001b[1;32mIn[19], line 3\u001b[0m\n\u001b[0;32m      1\u001b[0m \u001b[38;5;66;03m#create subplot figure with having two side by side plots\u001b[39;00m\n\u001b[0;32m      2\u001b[0m fig, axes \u001b[38;5;241m=\u001b[39m plt\u001b[38;5;241m.\u001b[39msubplots(nrows\u001b[38;5;241m=\u001b[39m\u001b[38;5;241m1\u001b[39m,ncols\u001b[38;5;241m=\u001b[39m\u001b[38;5;241m2\u001b[39m)\n\u001b[1;32m----> 3\u001b[0m \u001b[43mice_transposed_plot\u001b[49m\u001b[43m(\u001b[49m\u001b[43mkind\u001b[49m\u001b[38;5;241;43m=\u001b[39;49m\u001b[38;5;124;43m'\u001b[39;49m\u001b[38;5;124;43mbar\u001b[39;49m\u001b[38;5;124;43m'\u001b[39;49m\u001b[43m,\u001b[49m\u001b[43mlegend\u001b[49m\u001b[38;5;241;43m=\u001b[39;49m\u001b[38;5;28;43;01mFalse\u001b[39;49;00m\u001b[43m,\u001b[49m\u001b[43malign\u001b[49m\u001b[38;5;241;43m=\u001b[39;49m\u001b[38;5;124;43m\"\u001b[39;49m\u001b[38;5;124;43mcenter\u001b[39;49m\u001b[38;5;124;43m\"\u001b[39;49m\u001b[43m)\u001b[49m\n\u001b[0;32m      4\u001b[0m ice_ratio_plot(kind\u001b[38;5;241m=\u001b[39m\u001b[38;5;124m'\u001b[39m\u001b[38;5;124mbar\u001b[39m\u001b[38;5;124m'\u001b[39m,legend\u001b[38;5;241m=\u001b[39m\u001b[38;5;28;01mFalse\u001b[39;00m,align\u001b[38;5;241m=\u001b[39m\u001b[38;5;124m\"\u001b[39m\u001b[38;5;124mcenter\u001b[39m\u001b[38;5;124m\"\u001b[39m)\n",
      "\u001b[1;31mTypeError\u001b[0m: 'Axes' object is not callable"
     ]
    },
    {
     "data": {
      "image/png": "[encoded data removed]",
      "text/plain": [
       "<Figure size 640x480 with 2 Axes>"
      ]
     },
     "metadata": {},
     "output_type": "display_data"
    }
   ],
   "source": [
    "#create subplot figure with having two side by side plots\n",
    "fig, axes = plt.subplots(nrows=1,ncols=2)\n",
    "ice_transposed_plot(kind='bar',legend=False,align=\"center\")\n",
    "ice_ratio_plot(kind='bar',legend=False,align=\"center\")"
   ]
  },
  {
   "cell_type": "code",
   "execution_count": null,
   "id": "a4523100",
   "metadata": {},
   "outputs": [],
   "source": [
    "ice_df['year 1']"
   ]
  },
  {
   "cell_type": "code",
   "execution_count": null,
   "id": "03b9b5ba",
   "metadata": {},
   "outputs": [],
   "source": []
  }
 ],
 "metadata": {
  "kernelspec": {
   "display_name": "Python 3 (ipykernel)",
   "language": "python",
   "name": "python3"
  },
  "language_info": {
   "codemirror_mode": {
    "name": "ipython",
    "version": 3
   },
   "file_extension": ".py",
   "mimetype": "text/x-python",
   "name": "python",
   "nbconvert_exporter": "python",
   "pygments_lexer": "ipython3",
   "version": "3.10.13"
  }
 },
 "nbformat": 4,
 "nbformat_minor": 5
}
